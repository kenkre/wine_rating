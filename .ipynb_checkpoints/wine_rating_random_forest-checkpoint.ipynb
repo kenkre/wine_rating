{
 "cells": [
  {
   "cell_type": "code",
   "execution_count": 30,
   "metadata": {},
   "outputs": [],
   "source": [
    "import pandas as pd\n",
    "import numpy as np\n",
    "pd.set_option('display.max_columns', None)\n",
    "from sklearn.model_selection import train_test_split\n",
    "from sklearn.ensemble import RandomForestRegressor\n",
    "from sklearn.preprocessing import OneHotEncoder\n",
    "from sklearn.linear_model import Ridge\n",
    "import matplotlib.pyplot as plt"
   ]
  },
  {
   "cell_type": "code",
   "execution_count": 2,
   "metadata": {},
   "outputs": [],
   "source": [
    "df = pd.read_csv('data/wine_final.csv',index_col=0)"
   ]
  },
  {
   "cell_type": "code",
   "execution_count": 3,
   "metadata": {},
   "outputs": [
    {
     "name": "stdout",
     "output_type": "stream",
     "text": [
      "<class 'pandas.core.frame.DataFrame'>\n",
      "Int64Index: 24997 entries, 0 to 24996\n",
      "Data columns (total 10 columns):\n",
      " #   Column       Non-Null Count  Dtype  \n",
      "---  ------       --------------  -----  \n",
      " 0   Country      24989 non-null  object \n",
      " 1   County       20809 non-null  object \n",
      " 2   Designation  17633 non-null  object \n",
      " 3   Points       24997 non-null  int64  \n",
      " 4   Price        23373 non-null  float64\n",
      " 5   Province     24989 non-null  object \n",
      " 6   Title        24997 non-null  object \n",
      " 7   Variety      24997 non-null  object \n",
      " 8   Winery       24997 non-null  object \n",
      " 9   Year         24997 non-null  int64  \n",
      "dtypes: float64(1), int64(2), object(7)\n",
      "memory usage: 2.1+ MB\n"
     ]
    }
   ],
   "source": [
    "df.info()"
   ]
  },
  {
   "cell_type": "code",
   "execution_count": 4,
   "metadata": {},
   "outputs": [
    {
     "data": {
      "text/plain": [
       "Country           8\n",
       "County         4188\n",
       "Designation    7364\n",
       "Points            0\n",
       "Price          1624\n",
       "Province          8\n",
       "Title             0\n",
       "Variety           0\n",
       "Winery            0\n",
       "Year              0\n",
       "dtype: int64"
      ]
     },
     "execution_count": 4,
     "metadata": {},
     "output_type": "execute_result"
    }
   ],
   "source": [
    "df.isnull().sum()"
   ]
  },
  {
   "cell_type": "code",
   "execution_count": 5,
   "metadata": {},
   "outputs": [],
   "source": [
    "df.dropna(subset=['Country'],inplace=True)\n",
    "df.reset_index(drop=True,inplace=True)"
   ]
  },
  {
   "cell_type": "code",
   "execution_count": 6,
   "metadata": {},
   "outputs": [],
   "source": [
    "# Impute mean(price) for the country if price is NaN\n",
    "# If all prices for the country are NaN, impute with the mean(price) of a dataframe\n",
    "\n",
    "def impute_numerical(categorical_column, numerical_column):\n",
    "    frames = []\n",
    "    for i in list(set(df[categorical_column])):\n",
    "        df_category = df[df[categorical_column]== i]\n",
    "        if len(df_category) > 1:    \n",
    "            df_category[numerical_column].fillna(df_category[numerical_column].mean(),inplace = True)        \n",
    "        else:\n",
    "            df_category[numerical_column].fillna(df[numerical_column].mean(),inplace = True)\n",
    "        frames.append(df_category)    \n",
    "        final_df = pd.concat(frames)\n",
    "    return final_df"
   ]
  },
  {
   "cell_type": "code",
   "execution_count": 7,
   "metadata": {},
   "outputs": [
    {
     "name": "stderr",
     "output_type": "stream",
     "text": [
      "/opt/anaconda3/lib/python3.7/site-packages/pandas/core/series.py:4523: SettingWithCopyWarning: \n",
      "A value is trying to be set on a copy of a slice from a DataFrame\n",
      "\n",
      "See the caveats in the documentation: https://pandas.pydata.org/pandas-docs/stable/user_guide/indexing.html#returning-a-view-versus-a-copy\n",
      "  downcast=downcast,\n"
     ]
    }
   ],
   "source": [
    "impute_price  = impute_numerical('Country', 'Price')\n",
    "df = impute_price\n",
    "df.reset_index(drop=True,inplace=True)"
   ]
  },
  {
   "cell_type": "code",
   "execution_count": 8,
   "metadata": {},
   "outputs": [],
   "source": [
    "# def impute_county(categorical_column1, categorical_column2):\n",
    "#     cat_frames = []\n",
    "#     for i in list(set(df[categorical_column1])):\n",
    "#         df_category = df[df[categorical_column1]== i]\n",
    "#         if len(df_category) > 1 and (df_category[categorical_column2].isna().sum() < len(df_category[categorical_column2])):    \n",
    "#             df_category[categorical_column2].fillna(df_category[categorical_column2].mode()[0],inplace = True)        \n",
    "#         else:\n",
    "#             df_category[categorical_column2].fillna(' ',inplace = True)\n",
    "#         cat_frames.append(df_category)    \n",
    "#         cat_df = pd.concat(cat_frames)\n",
    "#     return cat_df"
   ]
  },
  {
   "cell_type": "code",
   "execution_count": 9,
   "metadata": {},
   "outputs": [],
   "source": [
    "# df = impute_county('Country', 'County')\n",
    "# df.reset_index(drop=True,inplace=True)"
   ]
  },
  {
   "cell_type": "code",
   "execution_count": 10,
   "metadata": {},
   "outputs": [],
   "source": [
    "# for county = NaN, the county feature for all the observations for that contry was NaN\n",
    "# if county = NaN --> substitute county with country\n",
    "\n",
    "df['County'].fillna(value=df['Country'],inplace=True)"
   ]
  },
  {
   "cell_type": "code",
   "execution_count": 11,
   "metadata": {},
   "outputs": [
    {
     "data": {
      "text/plain": [
       "Title          24571\n",
       "Designation    11558\n",
       "Winery          9033\n",
       "County           937\n",
       "Variety          449\n",
       "Province         319\n",
       "Price            263\n",
       "Year              42\n",
       "Country           37\n",
       "Points            21\n",
       "dtype: int64"
      ]
     },
     "execution_count": 11,
     "metadata": {},
     "output_type": "execute_result"
    }
   ],
   "source": [
    "df.nunique().sort_values(ascending=False)"
   ]
  },
  {
   "cell_type": "code",
   "execution_count": 12,
   "metadata": {},
   "outputs": [],
   "source": [
    "enc = OneHotEncoder(drop='first',handle_unknown='error')\n",
    "enc.fit(df['Country'].to_frame())\n",
    "\n",
    "\n",
    "enc_df_country = pd.DataFrame(enc.transform(df[['Country']]).toarray(),columns=enc.categories_[0][1:])\n",
    "df = df.join(enc_df_country)"
   ]
  },
  {
   "cell_type": "code",
   "execution_count": 13,
   "metadata": {},
   "outputs": [],
   "source": [
    "enc = OneHotEncoder(drop='first',handle_unknown='error')\n",
    "enc.fit(df['County'].to_frame())\n",
    "\n",
    "\n",
    "enc_df_county = pd.DataFrame(enc.transform(df[['County']]).toarray(),columns=enc.categories_[0][1:])\n",
    "df = df.join(enc_df_county,rsuffix='_County')"
   ]
  },
  {
   "cell_type": "code",
   "execution_count": 14,
   "metadata": {},
   "outputs": [],
   "source": [
    "enc = OneHotEncoder(drop='first',handle_unknown='error')\n",
    "enc.fit(df['Province'].to_frame())\n",
    "\n",
    "\n",
    "enc_df_province = pd.DataFrame(enc.transform(df[['Province']]).toarray(),columns=enc.categories_[0][1:])\n",
    "df = df.join(enc_df_province,rsuffix='_Province')"
   ]
  },
  {
   "cell_type": "code",
   "execution_count": 15,
   "metadata": {},
   "outputs": [],
   "source": [
    "enc = OneHotEncoder(drop='first',handle_unknown='error')\n",
    "enc.fit(df['Variety'].to_frame())\n",
    "\n",
    "\n",
    "enc_df_variety = pd.DataFrame(enc.transform(df[['Variety']]).toarray(),columns=enc.categories_[0][1:])\n",
    "df = df.join(enc_df_variety,rsuffix='_Variety')"
   ]
  },
  {
   "cell_type": "code",
   "execution_count": 16,
   "metadata": {},
   "outputs": [],
   "source": [
    "enc = OneHotEncoder(drop='first',handle_unknown='error')\n",
    "enc.fit(df['Winery'].to_frame())\n",
    "\n",
    "\n",
    "enc_df_winery = pd.DataFrame(enc.transform(df[['Winery']]).toarray(),columns=enc.categories_[0][1:])\n",
    "df = df.join(enc_df_winery,rsuffix='_winery')"
   ]
  },
  {
   "cell_type": "code",
   "execution_count": 17,
   "metadata": {},
   "outputs": [],
   "source": [
    "X=df.drop(['Title','Points','Designation','Country','County','Province','Variety','Winery'],axis=1)"
   ]
  },
  {
   "cell_type": "code",
   "execution_count": 18,
   "metadata": {},
   "outputs": [],
   "source": [
    "y=df['Points']"
   ]
  },
  {
   "cell_type": "code",
   "execution_count": 19,
   "metadata": {},
   "outputs": [],
   "source": [
    "X_train, X_test, y_train, y_test = train_test_split(X, y, test_size=0.2, random_state=42)"
   ]
  },
  {
   "cell_type": "code",
   "execution_count": 20,
   "metadata": {},
   "outputs": [
    {
     "data": {
      "text/plain": [
       "88.48236706517933"
      ]
     },
     "execution_count": 20,
     "metadata": {},
     "output_type": "execute_result"
    }
   ],
   "source": [
    "mean_points = y_train.mean()\n",
    "mean_points"
   ]
  },
  {
   "cell_type": "code",
   "execution_count": 21,
   "metadata": {},
   "outputs": [],
   "source": [
    "def rmsle(actual, predictions):\n",
    "    log_diff = np.log(predictions) - np.log(actual)\n",
    "    return np.sqrt(np.mean(log_diff**2))"
   ]
  },
  {
   "cell_type": "code",
   "execution_count": 22,
   "metadata": {},
   "outputs": [],
   "source": [
    "def rmse(actual, predictions):    \n",
    "    return np.sqrt(np.mean((predictions - actual)**2))"
   ]
  },
  {
   "cell_type": "markdown",
   "metadata": {},
   "source": [
    "### Base Model RMSE & RMSLE"
   ]
  },
  {
   "cell_type": "code",
   "execution_count": 23,
   "metadata": {},
   "outputs": [
    {
     "data": {
      "text/plain": [
       "0.0342951256298816"
      ]
     },
     "execution_count": 23,
     "metadata": {},
     "output_type": "execute_result"
    }
   ],
   "source": [
    "rmsle(y_train, np.full(len(y_train), mean_points))"
   ]
  },
  {
   "cell_type": "code",
   "execution_count": 24,
   "metadata": {},
   "outputs": [
    {
     "data": {
      "text/plain": [
       "3.0331694268655345"
      ]
     },
     "execution_count": 24,
     "metadata": {},
     "output_type": "execute_result"
    }
   ],
   "source": [
    "rmse(y_train, np.full(len(y_train), mean_points))"
   ]
  },
  {
   "cell_type": "markdown",
   "metadata": {},
   "source": [
    "### Random Forest Model"
   ]
  },
  {
   "cell_type": "code",
   "execution_count": 25,
   "metadata": {},
   "outputs": [
    {
     "data": {
      "text/plain": [
       "RandomForestRegressor(max_features='sqrt')"
      ]
     },
     "execution_count": 25,
     "metadata": {},
     "output_type": "execute_result"
    }
   ],
   "source": [
    "RF = RandomForestRegressor(max_features='sqrt')\n",
    "RF.fit(X_train,y_train)"
   ]
  },
  {
   "cell_type": "code",
   "execution_count": 26,
   "metadata": {},
   "outputs": [],
   "source": [
    "yhat = RF.predict(X_test)"
   ]
  },
  {
   "cell_type": "code",
   "execution_count": 27,
   "metadata": {},
   "outputs": [
    {
     "name": "stdout",
     "output_type": "stream",
     "text": [
      "RMSLE for Random Forest Model is 0.024065800648159275\n"
     ]
    }
   ],
   "source": [
    "print(f'RMSLE for Random Forest Model is {rmsle(yhat, y_test)}')"
   ]
  },
  {
   "cell_type": "code",
   "execution_count": 28,
   "metadata": {},
   "outputs": [
    {
     "name": "stdout",
     "output_type": "stream",
     "text": [
      "RMSE for Random Forest Model is 2.122187805505105\n"
     ]
    }
   ],
   "source": [
    "print(f'RMSE for Random Forest Model is {rmse(yhat, y_test)}')"
   ]
  },
  {
   "cell_type": "markdown",
   "metadata": {},
   "source": [
    "#### RF Feature Importance"
   ]
  },
  {
   "cell_type": "code",
   "execution_count": 29,
   "metadata": {},
   "outputs": [
    {
     "data": {
      "image/png": "[encoded data removed]",
      "text/plain": [
       "<Figure size 864x576 with 1 Axes>"
      ]
     },
     "metadata": {
      "needs_background": "light"
     },
     "output_type": "display_data"
    }
   ],
   "source": [
    "(pd.Series(RF.feature_importances_, index=X_train.columns)\n",
    "   .nlargest(15)\n",
    "   .plot(kind='barh',figsize=(12,8),color='red'))\n",
    "plt.show()"
   ]
  },
  {
   "cell_type": "code",
   "execution_count": 31,
   "metadata": {},
   "outputs": [
    {
     "data": {
      "image/png": "[encoded data removed]",
      "text/plain": [
       "<Figure size 432x288 with 1 Axes>"
      ]
     },
     "metadata": {
      "needs_background": "light"
     },
     "output_type": "display_data"
    }
   ],
   "source": [
    "coef=[]\n",
    "alphas = range(0,5)\n",
    "\n",
    "for a in alphas:\n",
    "  ridgereg=Ridge(alpha=a)\n",
    "  ridgereg.fit(X_train,y_train)\n",
    "  coef.append(ridgereg.coef_)\n",
    "\n",
    "###Make plot of Beta as a function of Alpha\n",
    "fig=plt.figure(figsize=(10,10))\n",
    "ax=fig.add_subplot(111)\n",
    "ax.plot(alphas,coef)\n",
    "ax.set_xlabel('Alpha (Regularization Parameter)')\n",
    "ax.set_ylabel('Beta (Predictor Coefficients)')\n",
    "ax.set_title('Ridge Coefficients vs Regularization Parameters')\n",
    "ax.axis('tight')\n",
    "plt.show()"
   ]
  },
  {
   "cell_type": "code",
   "execution_count": null,
   "metadata": {},
   "outputs": [],
   "source": []
  }
 ],
 "metadata": {
  "kernelspec": {
   "display_name": "Python 3",
   "language": "python",
   "name": "python3"
  },
  "language_info": {
   "codemirror_mode": {
    "name": "ipython",
    "version": 3
   },
   "file_extension": ".py",
   "mimetype": "text/x-python",
   "name": "python",
   "nbconvert_exporter": "python",
   "pygments_lexer": "ipython3",
   "version": "3.7.9"
  }
 },
 "nbformat": 4,
 "nbformat_minor": 4
}
